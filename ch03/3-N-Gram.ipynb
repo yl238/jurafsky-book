{
 "cells": [
  {
   "cell_type": "markdown",
   "metadata": {},
   "source": [
    "## n-Gram Feature Extraction"
   ]
  },
  {
   "cell_type": "code",
   "execution_count": 1,
   "metadata": {},
   "outputs": [],
   "source": [
    "def ngrams(words, n=2):\n",
    "    for idx in range(len(words)-n+1):\n",
    "        yield tuple(words[idx:idx+n])"
   ]
  },
  {
   "cell_type": "code",
   "execution_count": 2,
   "metadata": {},
   "outputs": [],
   "source": [
    "words = [\"The\", \"reporters\", \"listened\", \"closely\", \"as\", \"the\", \"President\",\n",
    "\"of\", \"the\", \"United\", \"States\", \"addressed\", \"the\", \"room\", \".\",\n",
    "]"
   ]
  },
  {
   "cell_type": "code",
   "execution_count": 4,
   "metadata": {},
   "outputs": [
    {
     "name": "stdout",
     "output_type": "stream",
     "text": [
      "('The', 'reporters', 'listened')\n",
      "('reporters', 'listened', 'closely')\n",
      "('listened', 'closely', 'as')\n",
      "('closely', 'as', 'the')\n",
      "('as', 'the', 'President')\n",
      "('the', 'President', 'of')\n",
      "('President', 'of', 'the')\n",
      "('of', 'the', 'United')\n",
      "('the', 'United', 'States')\n",
      "('United', 'States', 'addressed')\n",
      "('States', 'addressed', 'the')\n",
      "('addressed', 'the', 'room')\n",
      "('the', 'room', '.')\n"
     ]
    }
   ],
   "source": [
    "for ngram in ngrams(words, n=3):\n",
    "    print(ngram)"
   ]
  },
  {
   "cell_type": "markdown",
   "metadata": {},
   "source": [
    "With padding"
   ]
  },
  {
   "cell_type": "code",
   "execution_count": 8,
   "metadata": {},
   "outputs": [],
   "source": [
    "import nltk\n",
    "from functools import partial\n",
    "\n",
    "LPAD_SYMBOL = \"<s>\"\n",
    "RPAD_SYMBOL = \"</s>\"\n",
    "\n",
    "nltk_ngrams = partial(\n",
    "    nltk.ngrams,\n",
    "    pad_right=True, right_pad_symbol=RPAD_SYMBOL,\n",
    "    pad_left=True, left_pad_symbol=LPAD_SYMBOL\n",
    ")\n",
    "\n",
    "def ngrams(sent, n=2):\n",
    "    for ngram in nltk_ngrams(sent, n):\n",
    "        yield ngram"
   ]
  },
  {
   "cell_type": "code",
   "execution_count": 10,
   "metadata": {},
   "outputs": [
    {
     "name": "stdout",
     "output_type": "stream",
     "text": [
      "('<s>', '<s>', '<s>', 'The')\n",
      "('<s>', '<s>', 'The', 'reporters')\n",
      "('<s>', 'The', 'reporters', 'listened')\n",
      "('The', 'reporters', 'listened', 'closely')\n",
      "('reporters', 'listened', 'closely', 'as')\n",
      "('listened', 'closely', 'as', 'the')\n",
      "('closely', 'as', 'the', 'President')\n",
      "('as', 'the', 'President', 'of')\n",
      "('the', 'President', 'of', 'the')\n",
      "('President', 'of', 'the', 'United')\n",
      "('of', 'the', 'United', 'States')\n",
      "('the', 'United', 'States', 'addressed')\n",
      "('United', 'States', 'addressed', 'the')\n",
      "('States', 'addressed', 'the', 'room')\n",
      "('addressed', 'the', 'room', '.')\n",
      "('the', 'room', '.', '</s>')\n",
      "('room', '.', '</s>', '</s>')\n",
      "('.', '</s>', '</s>', '</s>')\n"
     ]
    }
   ],
   "source": [
    "for ngram in ngrams(words, n=4):\n",
    "    print(ngram)"
   ]
  },
  {
   "cell_type": "markdown",
   "metadata": {},
   "source": [
    "### Discovering collocations"
   ]
  },
  {
   "cell_type": "code",
   "execution_count": 12,
   "metadata": {},
   "outputs": [],
   "source": [
    "from nltk.collocations import QuadgramCollocationFinder\n",
    "from nltk.metrics.association import QuadgramAssocMeasures\n",
    "\n",
    "def rank_quadgrams(words, metric, path=None):\n",
    "    \"\"\"\n",
    "    Find and rank quadgrams from the supplied corpus using the given association metric.\n",
    "    Write the quadgrams out to the given path if supplied otherwise return the list\n",
    "    in memory.\n",
    "    \"\"\"\n",
    "    # Create a collocation ranking utility from corpus words.\n",
    "    ngrams = QuadgramCollocationFinder.from_words(words)\n",
    "    \n",
    "    # Rank collocations by association metric\n",
    "    scored = ngrams.score_ngrams(metric)\n",
    "    \n",
    "    if path:\n",
    "        # Write to disk as tab-delimited file\n",
    "        with open(path, 'w') as f:\n",
    "            f.write('Collocation\\tScore ({})'.format(metric.__name__))\n",
    "            for ngram, score in scored:\n",
    "                f.write(\"{}\\t{}\\n\".format(repr(ngram), score))\n",
    "    else:\n",
    "        return scored"
   ]
  },
  {
   "cell_type": "code",
   "execution_count": 13,
   "metadata": {},
   "outputs": [
    {
     "data": {
      "text/plain": [
       "[(('The', 'reporters', 'listened', 'closely'), 44.08740482303436),\n",
       " (('reporters', 'listened', 'closely', 'as'), 44.08740482303436),\n",
       " (('President', 'of', 'the', 'United'), 36.44923480349661),\n",
       " (('States', 'addressed', 'the', 'room'), 36.44923480349661),\n",
       " (('United', 'States', 'addressed', 'the'), 36.44923480349661),\n",
       " (('addressed', 'the', 'room', '.'), 36.44923480349661),\n",
       " (('as', 'the', 'President', 'of'), 36.44923480349661),\n",
       " (('closely', 'as', 'the', 'President'), 36.44923480349661),\n",
       " (('listened', 'closely', 'as', 'the'), 36.44923480349661),\n",
       " (('of', 'the', 'United', 'States'), 36.44923480349661),\n",
       " (('the', 'United', 'States', 'addressed'), 36.44923480349661),\n",
       " (('the', 'President', 'of', 'the'), 30.150640582527142)]"
      ]
     },
     "execution_count": 13,
     "metadata": {},
     "output_type": "execute_result"
    }
   ],
   "source": [
    "rank_quadgrams(words, QuadgramAssocMeasures.likelihood_ratio)"
   ]
  },
  {
   "cell_type": "markdown",
   "metadata": {},
   "source": [
    "### Significant collocation feature extractor"
   ]
  },
  {
   "cell_type": "code",
   "execution_count": 15,
   "metadata": {},
   "outputs": [],
   "source": [
    "from sklearn.base import BaseEstimator, TransformerMixin\n",
    "\n",
    "class SignificantCollocations(BaseEstimator, TransformerMixin):\n",
    "    \n",
    "    def __init__(self,\n",
    "                ngram_class=QuadgramCollocationFinder,\n",
    "                metric=QuadgramAssocMeasures.pmi):\n",
    "        self.ngram_class = ngram_class\n",
    "        self.metric = metric\n",
    "        \n",
    "    def fit(self, docs, target):\n",
    "        ngrams = self.ngram_class.from_documents(docs)\n",
    "        self.scored_ = dict(ngrams.score_ngrams(self.metric))\n",
    "        \n",
    "    def transform(self, docs):\n",
    "        for doc in docs:\n",
    "            ngrams = self.ngram_class.from_words(docs)\n",
    "            yield {\n",
    "                ngram: self.scored_.get(ngram, 0.0)\n",
    "                for ngram in ngrams.nbest(QuadgramAssocMeasures.raw_freq, 50)\n",
    "            }"
   ]
  },
  {
   "cell_type": "markdown",
   "metadata": {},
   "source": [
    "## n-Gram Language Models\n",
    "Conditional probability and conditional frequencies"
   ]
  },
  {
   "cell_type": "code",
   "execution_count": 64,
   "metadata": {},
   "outputs": [],
   "source": [
    "from nltk.util import ngrams\n",
    "from nltk.probability import FreqDist, ConditionalFreqDist\n",
    "\n",
    "from collections import defaultdict\n",
    "\n",
    "# Padding Symbols\n",
    "UNKNOWN = \"<UNK>\"\n",
    "LPAD = \"<s>\"\n",
    "RPAD = \"</s>\"\n",
    "\n",
    "class NgramCounter(object):\n",
    "    \"\"\"\n",
    "    The NgramCounter class counts ngrams given a vocabulary and ngram size.\n",
    "    \"\"\"\n",
    "    \n",
    "    def __init__(self, n, vocabulary, unknown=UNKNOWN):\n",
    "        \"\"\"\n",
    "        n is the size of the ngram\n",
    "        \"\"\"\n",
    "        if n < 1:\n",
    "            raise ValueError(\"ngram size must be greater than or equal to 1\")\n",
    "        self.n = n\n",
    "        self.unknown = unknown\n",
    "        self.padding = {\n",
    "            \"pad_left\": True,\n",
    "            \"pad_right\": True,\n",
    "            \"left_pad_symbol\": LPAD,\n",
    "            \"right_pad_symbol\": RPAD\n",
    "        }\n",
    "        self.vocabulary = vocabulary\n",
    "        self.allgrams = defaultdict(ConditionalFreqDist)\n",
    "        self.ngrams = FreqDist()\n",
    "        self.unigrams = FreqDist()\n",
    "        \n",
    "    def train_counts(self, training_text):\n",
    "        for sent in training_text:\n",
    "            checked_sent = (self.check_against_vocab(word) for word in sent)\n",
    "            sent_start = True\n",
    "            for ngram in self.to_ngrams(checked_sent):\n",
    "                self.ngrams[ngram] += 1\n",
    "                context, word = tuple(ngram[:-1]), ngram[-1]\n",
    "                if sent_start:\n",
    "                    for context_word in context:\n",
    "                        self.unigrams[context_word] += 1\n",
    "                    sent_start = False\n",
    "                    \n",
    "                for window, ngram_order in enumerate(range(self.n, 1, -1)):\n",
    "                    context = context[window:]\n",
    "                    self.allgrams[ngram_order][context][word] += 1\n",
    "                self.unigrams[word] += 1\n",
    "                \n",
    "    def check_against_vocab(self, word):\n",
    "        if word in self.vocabulary:\n",
    "            return word\n",
    "        return self.unknown\n",
    "    \n",
    "    def to_ngrams(self, sequence):\n",
    "        \"\"\"\n",
    "        Wrapper for NLTK ngrams method\n",
    "        \"\"\"\n",
    "        return ngrams(sequence, self.n, **self.padding)"
   ]
  },
  {
   "cell_type": "code",
   "execution_count": 65,
   "metadata": {},
   "outputs": [],
   "source": [
    "def count_ngrams(n, vocabulary, texts):\n",
    "    counter = NgramCounter(n, vocabulary)\n",
    "    counter.train_counts(texts)\n",
    "    return counter"
   ]
  },
  {
   "cell_type": "code",
   "execution_count": 141,
   "metadata": {},
   "outputs": [],
   "source": [
    "import pandas as pd\n",
    "from collections import Counter\n",
    "def create_vocab_sents():\n",
    "    df = pd.read_csv('../data/corpus.csv', header=None)\n",
    "    df = df[df[0].str.len() > 20]\n",
    "    \n",
    "    text = df[0][:1000].values\n",
    "    sents = [t.split() for t in text]\n",
    "    tokens = [j for i in sents for j in i]\n",
    "    vocab = Counter(tokens)\n",
    "    return vocab, sents"
   ]
  },
  {
   "cell_type": "code",
   "execution_count": 142,
   "metadata": {},
   "outputs": [],
   "source": [
    "vocab, sents = create_vocab_sents()"
   ]
  },
  {
   "cell_type": "code",
   "execution_count": 131,
   "metadata": {},
   "outputs": [],
   "source": [
    "trigram_counts = count_ngrams(4, vocab, sents)"
   ]
  }
 ],
 "metadata": {
  "kernelspec": {
   "display_name": "Python 3",
   "language": "python",
   "name": "python3"
  },
  "language_info": {
   "codemirror_mode": {
    "name": "ipython",
    "version": 3
   },
   "file_extension": ".py",
   "mimetype": "text/x-python",
   "name": "python",
   "nbconvert_exporter": "python",
   "pygments_lexer": "ipython3",
   "version": "3.7.3"
  }
 },
 "nbformat": 4,
 "nbformat_minor": 2
}
