{
 "cells": [
  {
   "cell_type": "markdown",
   "metadata": {},
   "source": [
    "## Grammar\n",
    "A grammar is a set of rules describing specifically how syntactic units (sentences, phrases, etc) in a given language should be deconstructed into their constituent units.\n",
    "\n",
    "| Symbol | Syntactic Category |\n",
    "|--------|--------------------|\n",
    "| S | Sentence |\n",
    "| NP | Noun Phrase |\n",
    "| VP | Verb Phrase |\n",
    "| PP | Prepositional Phrase |\n",
    "| DT | Determiner |\n",
    "| N | Noun |\n",
    "| V | Verb |\n",
    "| ADJ | Adjective |\n",
    "| P | Preposition |\n",
    "| TV | Transitive Verb |\n",
    "| IV | Intransitive Verb |\n",
    "\n",
    "### Context-Free Grammars\n",
    "Is a set of rules for combining syntactic components to form sensical strings.\n",
    "\n",
    "For instance:\n",
    "* The noun phrase \"the castle\" has a determiner (`DT`) and a noun (`N`).\n",
    "* The prepositional phrase (`PP`) \"in the castle\" has a preposition (`P`) and a noun phrase (`NP`)\n",
    "* The verb phrase (`VP`) \"looks in the castle\" has a verb (`V`) and a prepositional phrase (`PP`)\n",
    "* The sentence (`S`) \"Gwen looks in the castle\" has a proper noun (`NNP`) and verb phrase (`VP`).\n",
    "\n",
    "Using these tags, we can define a context-free grammar:"
   ]
  },
  {
   "cell_type": "code",
   "execution_count": 1,
   "metadata": {},
   "outputs": [],
   "source": [
    "GRAMMAR = \"\"\"\n",
    "    S -> NNP VP\n",
    "    VP -> V PP\n",
    "    PP -> P NP\n",
    "    NNP -> 'Gwen' | 'George'\n",
    "    V -> 'looks' | 'burns'\n",
    "    P -> 'in' | 'for'\n",
    "    DT -> 'the'\n",
    "    N -> 'castle' | 'ocean'\n",
    "\"\"\""
   ]
  },
  {
   "cell_type": "markdown",
   "metadata": {},
   "source": [
    "In NLTK, `nltk.grammar.CFG` is an object that defines a context-free grammar, specifying how different syntactic components can be related. We can use `CFG` to parse our grammar as a string."
   ]
  },
  {
   "cell_type": "code",
   "execution_count": 3,
   "metadata": {},
   "outputs": [
    {
     "name": "stdout",
     "output_type": "stream",
     "text": [
      "Grammar with 12 productions (start state = S)\n",
      "    S -> NNP VP\n",
      "    VP -> V PP\n",
      "    PP -> P NP\n",
      "    NNP -> 'Gwen'\n",
      "    NNP -> 'George'\n",
      "    V -> 'looks'\n",
      "    V -> 'burns'\n",
      "    P -> 'in'\n",
      "    P -> 'for'\n",
      "    DT -> 'the'\n",
      "    N -> 'castle'\n",
      "    N -> 'ocean'\n",
      "<bound method CFG.start of <Grammar with 12 productions>>\n",
      "[S -> NNP VP, VP -> V PP, PP -> P NP, NNP -> 'Gwen', NNP -> 'George', V -> 'looks', V -> 'burns', P -> 'in', P -> 'for', DT -> 'the', N -> 'castle', N -> 'ocean']\n"
     ]
    }
   ],
   "source": [
    "from nltk import CFG\n",
    "cfg = CFG.fromstring(GRAMMAR)\n",
    "\n",
    "print(cfg)\n",
    "print(cfg.start)\n",
    "print(cfg.productions())"
   ]
  },
  {
   "cell_type": "markdown",
   "metadata": {},
   "source": [
    "### Syntactic Parsers\n",
    "Once we have defined a grammar, we need a mechanism to systematically search out the meaningful syntactic structures from our corpus; this is the role of the *parser*.\n",
    "\n",
    "If a grammar defines the search criterion for \"meaningfulness\" in the context of our language, the parser executes the search. A *syntactic parser* is a program that deconstructs sentences into a parse tree, which consists of hierarchical constituents, or syntactic categories.\n",
    "\n",
    "When a parser encounters a sentence, it checks to see if the structure of that sentence conforms to a known grammar. If so, it parses the sentence according to the rules of that grammar, producing a parse tree. Parsers are often used to identify important structures, like the subject and object verbs in a sentence, or to determine which sequence of words in a sentence should be grouped together within each syntactic category.\n",
    "\n",
    "First, we define a `GRAMMAR` to identify sequences of text that match a part-of-speech pattern, and then instantiate an NLTK `RegexParser` that uses our grammar to chunk the text into subsections:"
   ]
  },
  {
   "cell_type": "code",
   "execution_count": 21,
   "metadata": {},
   "outputs": [],
   "source": [
    "import nltk"
   ]
  },
  {
   "cell_type": "code",
   "execution_count": 12,
   "metadata": {},
   "outputs": [],
   "source": [
    "from nltk.chunk.regexp import RegexpParser\n",
    "\n",
    "GRAMMAR = r'KT: {(<JJ>* <NN.*>+ <IN>)? <JJ>* <NN.*>+}'\n",
    "chunker = RegexpParser(GRAMMAR)"
   ]
  },
  {
   "cell_type": "code",
   "execution_count": 24,
   "metadata": {},
   "outputs": [],
   "source": [
    "def ie_preprocess(document):\n",
    "    sentences = nltk.sent_tokenize(document) \n",
    "    sentences = [nltk.word_tokenize(sent) for sent in sentences]\n",
    "    sentences = [nltk.pos_tag(sent) for sent in sentences]\n",
    "    return sentences"
   ]
  },
  {
   "cell_type": "code",
   "execution_count": 13,
   "metadata": {},
   "outputs": [],
   "source": [
    "text = \"Dusty Baker proposed a simple solution to the Washington National's \\\n",
    "early-season bullpen troubles Monday afternoon and it had nothing to do with \\\n",
    "his maligned group of relievers.\""
   ]
  },
  {
   "cell_type": "code",
   "execution_count": 26,
   "metadata": {},
   "outputs": [],
   "source": [
    "tagged_sentences = ie_preprocess(text)\n",
    "result = chunker.parse(tagged_sentences[0])"
   ]
  },
  {
   "cell_type": "code",
   "execution_count": 32,
   "metadata": {},
   "outputs": [
    {
     "name": "stdout",
     "output_type": "stream",
     "text": [
      "(S\n",
      "  (KT Dusty/NNP Baker/NNP)\n",
      "  proposed/VBD\n",
      "  a/DT\n",
      "  (KT simple/JJ solution/NN)\n",
      "  to/TO\n",
      "  the/DT\n",
      "  (KT Washington/NNP National/NNP)\n",
      "  's/POS\n",
      "  (KT\n",
      "    early-season/JJ\n",
      "    bullpen/NN\n",
      "    troubles/NNS\n",
      "    Monday/NNP\n",
      "    afternoon/NN)\n",
      "  and/CC\n",
      "  it/PRP\n",
      "  had/VBD\n",
      "  (KT nothing/NN)\n",
      "  to/TO\n",
      "  do/VB\n",
      "  with/IN\n",
      "  his/PRP$\n",
      "  maligned/VBN\n",
      "  (KT group/NN of/IN relievers/NNS)\n",
      "  ./.)\n"
     ]
    }
   ],
   "source": [
    "print(result)"
   ]
  }
 ],
 "metadata": {
  "kernelspec": {
   "display_name": "Python 3",
   "language": "python",
   "name": "python3"
  },
  "language_info": {
   "codemirror_mode": {
    "name": "ipython",
    "version": 3
   },
   "file_extension": ".py",
   "mimetype": "text/x-python",
   "name": "python",
   "nbconvert_exporter": "python",
   "pygments_lexer": "ipython3",
   "version": "3.7.3"
  }
 },
 "nbformat": 4,
 "nbformat_minor": 2
}
