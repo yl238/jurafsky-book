{
 "cells": [
  {
   "cell_type": "markdown",
   "metadata": {},
   "source": [
    "## Word Normalization\n",
    "Task of putting words/tokens in a standard format, choosing a single normal form for words with multiple forms like USA and US.\n",
    "\n",
    "#### Case folding\n",
    "Maps everything to lower case, helpful for generalization in tasks such as information retrieval or speech recognition. However, for sentiment analysis and other text classification tasks, case can be quite helpful and case folding is generally not done.\n",
    "\n",
    "#### Lemmatization\n",
    "Determining whether two words have the same root, despite their surface differences.\n",
    "\n",
    "How is it done? The most sophisticated methods for lemmatization involve complete **morphological parsing** of the word. **Morphology** is the study of the way words are built up from smaller meaning-bearing units called **morphemes**. Two broad classes of morphemes can be distinguished:\n",
    "\n",
    "- **stems**: the central morpheme of the word, supplying the main meaning\n",
    "- **affixes**: adding additional meanings of various kinds.\n",
    "\n",
    "One useful lemmatizer is the `WordNetLemmatizer` from `nltk`.\n",
    "\n",
    "This uses [WordNet](https://wordnet.princeton.edu/)'s built-in morphy function. Returns the input word unchanged if it cannot be found in WordNet."
   ]
  },
  {
   "cell_type": "code",
   "execution_count": 1,
   "metadata": {},
   "outputs": [],
   "source": [
    "from nltk.stem import WordNetLemmatizer"
   ]
  },
  {
   "cell_type": "code",
   "execution_count": 2,
   "metadata": {},
   "outputs": [],
   "source": [
    "wnl = WordNetLemmatizer()"
   ]
  },
  {
   "cell_type": "code",
   "execution_count": 3,
   "metadata": {},
   "outputs": [
    {
     "name": "stdout",
     "output_type": "stream",
     "text": [
      "dog\n"
     ]
    }
   ],
   "source": [
    "print(wnl.lemmatize('dogs'))"
   ]
  },
  {
   "cell_type": "code",
   "execution_count": 4,
   "metadata": {},
   "outputs": [
    {
     "name": "stdout",
     "output_type": "stream",
     "text": [
      "abacus\n"
     ]
    }
   ],
   "source": [
    "print(wnl.lemmatize('abaci'))"
   ]
  },
  {
   "cell_type": "code",
   "execution_count": 5,
   "metadata": {},
   "outputs": [],
   "source": [
    "wnl??"
   ]
  },
  {
   "cell_type": "code",
   "execution_count": null,
   "metadata": {},
   "outputs": [],
   "source": []
  }
 ],
 "metadata": {
  "kernelspec": {
   "display_name": "Python 3",
   "language": "python",
   "name": "python3"
  },
  "language_info": {
   "codemirror_mode": {
    "name": "ipython",
    "version": 3
   },
   "file_extension": ".py",
   "mimetype": "text/x-python",
   "name": "python",
   "nbconvert_exporter": "python",
   "pygments_lexer": "ipython3",
   "version": "3.7.3"
  }
 },
 "nbformat": 4,
 "nbformat_minor": 2
}
