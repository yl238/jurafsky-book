{
 "cells": [
  {
   "cell_type": "markdown",
   "metadata": {},
   "source": [
    "## Regular Expressions\n",
    "### Why are we doing this?\n",
    "- Describe text patterns\n",
    "- Specify strings we might want to extract from a document\n",
    "- Search and replace text (e.g. in building a chatbot like ELIZA)\n",
    "- Text normalization: converting everything to a more convenient, standard form (e.g. Tokenization)\n",
    "\n",
    "The regular expression syntax are mostly for `grep` but can be easily adapted for Python."
   ]
  },
  {
   "cell_type": "markdown",
   "metadata": {},
   "source": [
    "#### Basic Python regular expression metacharacters, including wildcards, ranges and closures\n",
    "| Operator | Behaviour |\n",
    "|-----|---------------------------------|\n",
    "|`.` | Wildcard, matches any character |\n",
    "| `^abc` | Matches some pattern `abc` at the start of a string |\n",
    "| `abc$` | Matches some pattern `abc` at the end of a string |\n",
    "| `[abc]` | Matches one of a set of characters |\n",
    "| `[A-Z0-9]` | Matches one of a range of characters |\n",
    "| `ed\\|ing\\|s` | Matches one of the specified strings (disjunction) |\n",
    "| `*` | Zero or more of previous item, e.g., `a*`, `[a-z]*` (also known as *Kleene Clusure*) |\n",
    "| `+` | One or more of previous item, e.g. `a+`, `[a-z]+` |\n",
    "| `?` | Zero or one of the previous item (i.e. optional) e.g. `a?`, `[a-z]?` |\n",
    "| `{n}` | Exactly *n* repeats when *n* is a non-negative integer |\n",
    "| `{n,}` | At least *n* repeats |\n",
    "| `{, n}` | No more than *n* repeats |\n",
    "| `{m, n}` | At least *m* and no more than *n* repeats |\n",
    "| `a(b\\|c)+` | Parentheses that indicate the scope of the operators |"
   ]
  },
  {
   "cell_type": "code",
   "execution_count": 2,
   "metadata": {},
   "outputs": [],
   "source": [
    "import re"
   ]
  },
  {
   "cell_type": "markdown",
   "metadata": {},
   "source": [
    "#### Figure 2.1 - some simple regex searches"
   ]
  },
  {
   "cell_type": "code",
   "execution_count": 3,
   "metadata": {
    "scrolled": true
   },
   "outputs": [
    {
     "name": "stdout",
     "output_type": "stream",
     "text": [
      "['woodchucks']\n",
      "Alternatively we can do the following\n"
     ]
    },
    {
     "data": {
      "text/plain": [
       "['woodchucks']"
      ]
     },
     "execution_count": 3,
     "metadata": {},
     "output_type": "execute_result"
    }
   ],
   "source": [
    "text = 'interesting links to woodchucks and lemurs'\n",
    "pattern = re.compile(r'woodchucks')\n",
    "print(pattern.findall(text)) # Find all gets all possible matches in the text\n",
    "\n",
    "print('Alternatively we can do the following')\n",
    "re.findall(r'woodchucks', text)"
   ]
  },
  {
   "cell_type": "code",
   "execution_count": 9,
   "metadata": {},
   "outputs": [
    {
     "data": {
      "text/plain": [
       "[2019, 12, 31]"
      ]
     },
     "execution_count": 9,
     "metadata": {},
     "output_type": "execute_result"
    }
   ],
   "source": [
    "[int(n) for n in re.findall(r'[0-9]+', '2019-12-31')]"
   ]
  },
  {
   "cell_type": "code",
   "execution_count": 28,
   "metadata": {},
   "outputs": [
    {
     "name": "stdout",
     "output_type": "stream",
     "text": [
      "['a', 'a']\n"
     ]
    },
    {
     "data": {
      "text/plain": [
       "<re.Match object; span=(1, 2), match='a'>"
      ]
     },
     "execution_count": 28,
     "metadata": {},
     "output_type": "execute_result"
    }
   ],
   "source": [
    "text = \"Mary Ann stoped by Mona's\"\n",
    "pattern = re.compile(r'a')\n",
    "print(pattern.findall(text))\n",
    "\n",
    "# Alternatively can use `re.search` - this returns a match object if matched\n",
    "re.search(r'a', text)"
   ]
  },
  {
   "cell_type": "code",
   "execution_count": 11,
   "metadata": {},
   "outputs": [
    {
     "data": {
      "text/plain": [
       "['!']"
      ]
     },
     "execution_count": 11,
     "metadata": {},
     "output_type": "execute_result"
    }
   ],
   "source": [
    "text = \"You’ve left the burglar behind again!” said Nori\"\n",
    "pattern = re.compile(r'!')\n",
    "pattern.findall(text)"
   ]
  },
  {
   "cell_type": "markdown",
   "metadata": {},
   "source": [
    "#### Figure 2.2 - Use of the brackets `[]` to specify a disjunction of characters."
   ]
  },
  {
   "cell_type": "code",
   "execution_count": 16,
   "metadata": {},
   "outputs": [
    {
     "name": "stdout",
     "output_type": "stream",
     "text": [
      "['Woodchunk', 'woodchunk']\n",
      "Ignorecase: ['Woodchunk', 'woodchunk']\n"
     ]
    }
   ],
   "source": [
    "text = 'Woodchunk or woodchunk?'\n",
    "pattern = re.compile(r'[wW]oodchunk')\n",
    "print(pattern.findall(text))\n",
    "\n",
    "# Can also use the IGNORECASE\n",
    "pattern = re.compile(r'woodchunk', re.IGNORECASE)\n",
    "print('Ignorecase:', pattern.findall(text))"
   ]
  },
  {
   "cell_type": "code",
   "execution_count": 13,
   "metadata": {},
   "outputs": [
    {
     "data": {
      "text/plain": [
       "['a']"
      ]
     },
     "execution_count": 13,
     "metadata": {},
     "output_type": "execute_result"
    }
   ],
   "source": [
    "text = 'In uomini, in soldati'\n",
    "pattern = re.compile(r'[abc]')\n",
    "pattern.findall(text)"
   ]
  },
  {
   "cell_type": "code",
   "execution_count": 17,
   "metadata": {},
   "outputs": [
    {
     "data": {
      "text/plain": [
       "['7', '5']"
      ]
     },
     "execution_count": 17,
     "metadata": {},
     "output_type": "execute_result"
    }
   ],
   "source": [
    "text = 'plenty of 7 to 5'\n",
    "pattern = re.compile(r'[0-9]')\n",
    "pattern.findall(text)"
   ]
  },
  {
   "cell_type": "markdown",
   "metadata": {},
   "source": [
    "#### Figure 2.3 - Use of the brackets `[]` plus the dash to specify a range"
   ]
  },
  {
   "cell_type": "code",
   "execution_count": 22,
   "metadata": {},
   "outputs": [
    {
     "name": "stdout",
     "output_type": "stream",
     "text": [
      "['D', 'B']\n",
      "['m', 'y', 'b', 'e', 'a', 'n', 's', 'w', 'e', 'r', 'e', 'i', 'm', 'p', 'a', 't', 'i', 'e', 'n', 't', 't', 'o', 'b', 'e', 'h', 'o', 'e', 'd']\n",
      "['1']\n"
     ]
    }
   ],
   "source": [
    "text = \"we should call it 'Drenched Blossoms'\"\n",
    "pattern = re.compile(r'[A-Z]')\n",
    "print(pattern.findall(text))\n",
    "\n",
    "text = 'my beans were impatient to be hoed'\n",
    "pattern = re.compile(r'[a-z]')\n",
    "print(pattern.findall(text))\n",
    "\n",
    "text = 'Chapter 1: Down the Rabbit Hole'\n",
    "pattern = re.compile(r'[0-9]')\n",
    "print(pattern.findall(text))"
   ]
  },
  {
   "cell_type": "markdown",
   "metadata": {},
   "source": [
    "#### Figure 2.4 - The caret `^` for negation or just to mean `^`."
   ]
  },
  {
   "cell_type": "code",
   "execution_count": 23,
   "metadata": {},
   "outputs": [
    {
     "name": "stdout",
     "output_type": "stream",
     "text": [
      "['y', 'f', 'n', ' ', 'p', 'r', 'i', 'p', 'e', 't', 'c', 'h', 'i', 'k']\n"
     ]
    }
   ],
   "source": [
    "text = \"Oyfn pripetchik\"\n",
    "pattern = re.compile(r'[^A-Z]') # Not an upper case letter\n",
    "print(pattern.findall(text)) # This gets all the spaces as well"
   ]
  },
  {
   "cell_type": "code",
   "execution_count": 25,
   "metadata": {},
   "outputs": [
    {
     "name": "stdout",
     "output_type": "stream",
     "text": [
      "['I', ' ', 'h', 'a', 'v', 'e', ' ', 'n', 'o', ' ', 'e', 'x', 'q', 'u', 'i', 'i', 't', 'e', ' ', 'r', 'e', 'a', 'o', 'n', ' ', 'f', 'o', 'r', ' ', \"'\", 't']\n"
     ]
    }
   ],
   "source": [
    "text = \"I have no exquisite reason for 't\"\n",
    "pattern = re.compile(r'[^Ss]') # neither 'S' or 's'\n",
    "print(pattern.findall(text))"
   ]
  },
  {
   "cell_type": "code",
   "execution_count": 29,
   "metadata": {},
   "outputs": [
    {
     "name": "stdout",
     "output_type": "stream",
     "text": [
      "['o', 'u', 'r', ' ', 'r', 'e', 's', 'i', 'd', 'e', 'n', 't', ' ', 'D', 'j', 'i', 'n', 'n']\n"
     ]
    }
   ],
   "source": [
    "text = 'our resident Djinn'\n",
    "pattern = re.compile(r'[^.]') # Not a period\n",
    "print(pattern.findall(text)) "
   ]
  },
  {
   "cell_type": "code",
   "execution_count": 30,
   "metadata": {},
   "outputs": [
    {
     "name": "stdout",
     "output_type": "stream",
     "text": [
      "['^']\n"
     ]
    }
   ],
   "source": [
    "text = \"look up ^ now\"\n",
    "pattern = re.compile(r'[e^]') # Either 'e' or '^'\n",
    "print(pattern.findall(text))"
   ]
  },
  {
   "cell_type": "code",
   "execution_count": 31,
   "metadata": {},
   "outputs": [
    {
     "name": "stdout",
     "output_type": "stream",
     "text": [
      "['a', '^', 'b']\n"
     ]
    }
   ],
   "source": [
    "text = \"look up a^b now\"\n",
    "pattern = re.compile(r'[a^b]')\n",
    "print(pattern.findall(text))"
   ]
  },
  {
   "cell_type": "markdown",
   "metadata": {},
   "source": [
    "#### Figure 2.5 - The question mark `?` marks optionality of the previous expression"
   ]
  },
  {
   "cell_type": "code",
   "execution_count": 33,
   "metadata": {},
   "outputs": [
    {
     "name": "stdout",
     "output_type": "stream",
     "text": [
      "['woodchuck', 'woodchucks']\n",
      "Ignore case: ['woodchuck', 'woodchucks', 'Woodchuck']\n"
     ]
    }
   ],
   "source": [
    "text = 'woodchuck woodchucks Woodchuck'\n",
    "pattern = re.compile(r'woodchucks?')\n",
    "print(pattern.findall(text))\n",
    "\n",
    "# optionally ignore case\n",
    "pattern = re.compile(r'woodchucks?', re.IGNORECASE)\n",
    "print('Ignore case:', pattern.findall(text))"
   ]
  },
  {
   "cell_type": "code",
   "execution_count": 35,
   "metadata": {},
   "outputs": [
    {
     "data": {
      "text/plain": [
       "['color', 'colour']"
      ]
     },
     "execution_count": 35,
     "metadata": {},
     "output_type": "execute_result"
    }
   ],
   "source": [
    "text = 'color Colour colour'\n",
    "pattern = re.compile(r'colou?r') # American spelling?\n",
    "pattern.findall(text)"
   ]
  },
  {
   "cell_type": "markdown",
   "metadata": {},
   "source": [
    "#### Kleene * (clean star): zero or more occurrences of the immediately previous character"
   ]
  },
  {
   "cell_type": "code",
   "execution_count": 41,
   "metadata": {},
   "outputs": [
    {
     "name": "stdout",
     "output_type": "stream",
     "text": [
      "['a', '', 'aaaa', '', 'aaaaaaa', '', '', 'aa', '', '', '', '', '', '', '', '', '', 'a', '', 'a', '', 'a', '', '', 'a', '', '']\n",
      "['a', 'aaaa', 'aaaaaaa', 'aa', 'a', 'a', 'a', 'a']\n"
     ]
    }
   ],
   "source": [
    "text = 'a aaaa aaaaaaa baa Ofminor ababab ab'\n",
    "pattern = re.compile(r'a*') \n",
    "print(pattern.findall(text))  # Note this matches everything that has Zero a s as well. Not what we desire\n",
    "\n",
    "pattern = re.compile(r'aa*') # One a followed by zero or more a s\n",
    "print(pattern.findall(text))"
   ]
  },
  {
   "cell_type": "code",
   "execution_count": 43,
   "metadata": {},
   "outputs": [
    {
     "name": "stdout",
     "output_type": "stream",
     "text": [
      "['a', '', 'aaaa', '', 'aaaaaaa', '', 'baa', '', '', '', '', '', '', '', '', '', 'ababab', '', 'ab', '']\n"
     ]
    }
   ],
   "source": [
    "# A more complex example\n",
    "pattern = re.compile(r'[ab]*')\n",
    "print(pattern.findall(text))"
   ]
  },
  {
   "cell_type": "markdown",
   "metadata": {},
   "source": [
    "#### Kleene + : one or more occurrences of the immediately preceding character"
   ]
  },
  {
   "cell_type": "code",
   "execution_count": 44,
   "metadata": {},
   "outputs": [
    {
     "name": "stdout",
     "output_type": "stream",
     "text": [
      "['a', 'a', 'aaa', 'aaaa', 'aaaa', 'a', 'a', 'a']\n"
     ]
    }
   ],
   "source": [
    "text = 'a ba aaa aaaa baaaa bababa'\n",
    "pattern = re.compile(r'a+')\n",
    "print(pattern.findall(text))"
   ]
  },
  {
   "cell_type": "code",
   "execution_count": 45,
   "metadata": {},
   "outputs": [
    {
     "name": "stdout",
     "output_type": "stream",
     "text": [
      "['ba', 'baaaa', 'ba', 'ba', 'ba']\n"
     ]
    }
   ],
   "source": [
    "pattern = re.compile(r'ba+')\n",
    "print(pattern.findall(text))"
   ]
  },
  {
   "cell_type": "code",
   "execution_count": 46,
   "metadata": {},
   "outputs": [
    {
     "name": "stdout",
     "output_type": "stream",
     "text": [
      "['10234', '345', '345']\n"
     ]
    }
   ],
   "source": [
    "text = 'abce 10234 bc345 345asd'\n",
    "pattern = re.compile(r'[0-9]+')\n",
    "print(pattern.findall(text))"
   ]
  },
  {
   "cell_type": "markdown",
   "metadata": {},
   "source": [
    "#### Figure 2.6 - The use of the period `.` to specify **any** character (*except* carriage return)"
   ]
  },
  {
   "cell_type": "code",
   "execution_count": 48,
   "metadata": {},
   "outputs": [
    {
     "name": "stdout",
     "output_type": "stream",
     "text": [
      "['begin', \"beg'n\", 'begun']\n"
     ]
    }
   ],
   "source": [
    "text = \"begin, beg'n begun\"\n",
    "pattern = re.compile(r'beg.n')\n",
    "print(pattern.findall(text))"
   ]
  },
  {
   "cell_type": "code",
   "execution_count": 49,
   "metadata": {},
   "outputs": [
    {
     "data": {
      "text/plain": [
       "['aardvark but there are many other aardvark']"
      ]
     },
     "execution_count": 49,
     "metadata": {},
     "output_type": "execute_result"
    }
   ],
   "source": [
    "# Another example, suppose we want to find any line where the word 'aardvark' appears twice\n",
    "text = \"I have seen the world's biggest aardvark but there are many other aardvarks out there\"\n",
    "pattern = re.compile(r'aardvark.*aardvark')\n",
    "pattern.findall(text)"
   ]
  },
  {
   "cell_type": "markdown",
   "metadata": {},
   "source": [
    "#### Anchors are special characters anchor regular expressions to particular places in a string\n",
    "- `^` caret - matches start of a line\n",
    "- `$` dollar sign, matches end of line"
   ]
  },
  {
   "cell_type": "code",
   "execution_count": 50,
   "metadata": {},
   "outputs": [
    {
     "data": {
      "text/plain": [
       "['The']"
      ]
     },
     "execution_count": 50,
     "metadata": {},
     "output_type": "execute_result"
    }
   ],
   "source": [
    "text = 'The headache been the worst ever'\n",
    "pattern = re.compile(r'^the', re.IGNORECASE)\n",
    "pattern.findall(text)"
   ]
  },
  {
   "cell_type": "code",
   "execution_count": 51,
   "metadata": {},
   "outputs": [
    {
     "name": "stdout",
     "output_type": "stream",
     "text": [
      "[]\n",
      "['The dog.']\n"
     ]
    }
   ],
   "source": [
    "text1 = 'The cat has eaten the dog'\n",
    "text2 = 'The dog.'\n",
    "\n",
    "pattern = re.compile(r'^The dog\\.$', re.IGNORECASE)\n",
    "print(pattern.findall(text1))\n",
    "print(pattern.findall(text2))"
   ]
  },
  {
   "cell_type": "markdown",
   "metadata": {},
   "source": [
    "Other anchors:\n",
    "* `\\b` matches a word boundary\n",
    "* `\\B` matches a non-boundary\n",
    "A word for the purposes of a regular expression is defined as *any sequence of digits, underscores or letters*."
   ]
  },
  {
   "cell_type": "code",
   "execution_count": 56,
   "metadata": {},
   "outputs": [
    {
     "name": "stdout",
     "output_type": "stream",
     "text": [
      "['99', '99']\n",
      "['99']\n"
     ]
    }
   ],
   "source": [
    "text = 'There are 99 bottles of beers on the wall and 299 bottles on the floor and costs $99'\n",
    "pattern = re.compile(r'\\b99\\b') # matches 99 and $99\n",
    "print(pattern.findall(text))\n",
    "\n",
    "pattern = re.compile('\\B99') # Matches 299\n",
    "print(pattern.findall(text))"
   ]
  },
  {
   "cell_type": "markdown",
   "metadata": {},
   "source": [
    "### 2.1.2 Disjunction, Grouping and Precedence\n",
    "* `|` pipe symbol indicates **disjunction**\n",
    "#### Operator precedence hierarchy\n",
    "Ordered from highest precedence to lowest precedence\n",
    "\n",
    "| Operator | Symbol |\n",
    "|----------|--------|\n",
    "| Parenthesis | `()` |\n",
    "| Counters | `*` `+` `?` `{}` |\n",
    "| Sequences and anchors | `the` `^my` `end$` |\n",
    "| Disjunction | `\\|` |"
   ]
  },
  {
   "cell_type": "markdown",
   "metadata": {},
   "source": [
    "#### Simple Example\n",
    "We wanted to write a regular expression to find cases of the ENglish article `the`. \n",
    "\n",
    "Start simple:\n",
    "```\n",
    "'the'\n",
    "``` \n",
    "This pattern will miss the word when it begins a sentence and hence is capitalized (i.e. 'The')\n",
    "```\n",
    "'[tT]he'\n",
    "```\n",
    "This will incorrectly return texts with `the` embedded in other words (e.g. *other* or *theology*). So need to specify that we want instances with a word boundary on both sides:\n",
    "```\n",
    "'\\b[tT]he\\b'\n",
    "```\n",
    "\n",
    "Suppose we want to do this without the use of `\\b`. We might want this since `\\b` won't treat underscores and numbers as word boundaries, but we might want to find `the` in some context where it might also have underlines or numbers nearby (*the_* or *the25*). We need to specify that we want instances in which there are no alphabetic letters on either side of the *the*:\n",
    "```\n",
    "'[^a-zA-Z][tT]he[^a-zA-Z]'\n",
    "```\n",
    "But there is still one problem with this pattern, it won't find the word *the* when it begins a line. This is because the regular expression `[^a-zA-Z]`, which we used to avoid embedded instances of *the*, implies that there must be some single (although non-alphabetic) character before the *the*. We can avoid this by specifying that before the *the* we require *either* the beginning-of-line or a non-alphabetic character, and the same at the end of the line:\n",
    "```\n",
    "'(^|[^a-zA-Z])[tT]he([^a-zA-Z]|\\$)'\n",
    "```"
   ]
  },
  {
   "cell_type": "markdown",
   "metadata": {},
   "source": [
    "### 2.1.4 More complex example\n",
    "Suppose we want to build an application to help a user buy a computer on the web. The user might want 'any machine with at least 6GHz and 500GB of disk space for less than \\\\$1000. To do this kind of retrieval, we first need to be able to look for expressions like *6GHz* or *500GB* or *Mac* or \\\\$999.99.\n",
    "\n",
    "Here's a regular expression for a dollar sign followed by a string of digits\n",
    "```\n",
    "'\\$[0-9]+'\n",
    "```\n",
    "Now we need to deal with fractions of dollars. We'll add a decimal point and two digits afterwards:\n",
    "```\n",
    "'\\$[0-9]+\\.[0-9][0-9]'\n",
    "```\n",
    "This pattern only allows \\\\$199.99 but not \\\\$199. We need to make the cents optional and to make sure we are at a word boundary.\n",
    "```\n",
    "(^|\\W)\\$[0-9]+(\\.[0-9][0-9])?\\b\n",
    "```"
   ]
  },
  {
   "cell_type": "code",
   "execution_count": 159,
   "metadata": {},
   "outputs": [
    {
     "data": {
      "text/plain": [
       "['1234', '1999999.34', '199']"
      ]
     },
     "execution_count": 159,
     "metadata": {},
     "output_type": "execute_result"
    }
   ],
   "source": [
    "text = '$1234 price $1999999.34 but discount for $199 $19'\n",
    "pattern = re.compile(r'\\$(\\d{3,}[\\d.,]*)\\b')\n",
    "pattern.findall(text)"
   ]
  },
  {
   "cell_type": "code",
   "execution_count": 166,
   "metadata": {},
   "outputs": [
    {
     "data": {
      "text/plain": [
       "[('10000', 'GB'), ('', 'GB'), ('', 'Gigabytes'), ('400', 'GB')]"
      ]
     },
     "execution_count": 166,
     "metadata": {},
     "output_type": "execute_result"
    }
   ],
   "source": [
    "text = 'I have more than 10000 GB or memory but you have 19.25 GB 0.25 Gigabytes 400 GB'\n",
    "pattern = re.compile(r'([0-9]\\d{2,}[\\d.,]*)? *(GB|[Gg]igabytes?)\\b')\n",
    "pattern.findall(text) "
   ]
  },
  {
   "cell_type": "markdown",
   "metadata": {},
   "source": [
    "### 2.1.5 More Operators\n",
    "\n",
    "| RE | Expansion | Match | \n",
    "|----|-----------|-------|\n",
    "| `\\b` |  | Word boundary (zero width) |\n",
    "| `\\d` | `[0-9]` | Any digit |\n",
    "| `\\D` | `[^0-9]` | Any non-digit |\n",
    "| `\\w` | `[a-zA-Z0-9_]` | Any alphanumeric/underscore |\n",
    "| `\\W` | `[^\\w]` | A non-alphanumeric |\n",
    "| `\\s` | `[ \\r\\t\\n\\f]` | White space (space, tab) |\n",
    "| `\\S` | `[^\\s]` | None-white space |"
   ]
  },
  {
   "cell_type": "code",
   "execution_count": 18,
   "metadata": {},
   "outputs": [
    {
     "name": "stdout",
     "output_type": "stream",
     "text": [
      "['5']\n",
      "['B', 'l', 'u', 'e', ' ', 'M', 'o', 'o', 'n']\n",
      "['D', 'a', 'i', 'y', 'u']\n",
      "['!', '!']\n",
      "[' ', '\\t', '\\n', ' ', '\\r']\n",
      "['a', 'b', 'c']\n"
     ]
    }
   ],
   "source": [
    "print(re.findall('\\d', 'Party of 5'))\n",
    "print(re.findall('\\D', 'Blue Moon'))\n",
    "print(re.findall('\\w', 'Daiyu'))\n",
    "print(re.findall('\\W', 'ABCD!!'))\n",
    "print(re.findall('\\s', 'abc \\tdef\\n lij\\r'))\n",
    "print(re.findall('\\S', '\\n\\r abc'))"
   ]
  },
  {
   "cell_type": "markdown",
   "metadata": {},
   "source": [
    "### 2.1.6 Substitution, Capture Groups and Eliza\n",
    "An important use of regular expressions is in **substitutions**. "
   ]
  },
  {
   "cell_type": "code",
   "execution_count": 19,
   "metadata": {},
   "outputs": [],
   "source": [
    "regexp = r'the (.*)er they (.*), the \\1er we \\2'\n",
    "text = 'the faster they ran, the faster we ran'\n",
    "\n",
    "re.findall(regexp, text)"
   ]
  },
  {
   "cell_type": "markdown",
   "metadata": {},
   "source": [
    "Simulating ELIZA"
   ]
  },
  {
   "cell_type": "code",
   "execution_count": 52,
   "metadata": {},
   "outputs": [],
   "source": [
    "regexp = r\".*I'm (depressed|sad).*\"\n",
    "\n",
    "def upp_repl(match, start='', end=''):\n",
    "    return \"I'M SORRY THAT YOU ARE \" + match.group(1).upper()"
   ]
  },
  {
   "cell_type": "code",
   "execution_count": 46,
   "metadata": {},
   "outputs": [],
   "source": [
    "text = \"He says I'm depressed much of the time\""
   ]
  },
  {
   "cell_type": "code",
   "execution_count": 53,
   "metadata": {},
   "outputs": [
    {
     "data": {
      "text/plain": [
       "\"I'M SORRY THAT YOU ARE DEPRESSED\""
      ]
     },
     "execution_count": 53,
     "metadata": {},
     "output_type": "execute_result"
    }
   ],
   "source": [
    "re.sub(regexp, upp_repl, text)"
   ]
  }
 ],
 "metadata": {
  "kernelspec": {
   "display_name": "Python 3",
   "language": "python",
   "name": "python3"
  },
  "language_info": {
   "codemirror_mode": {
    "name": "ipython",
    "version": 3
   },
   "file_extension": ".py",
   "mimetype": "text/x-python",
   "name": "python",
   "nbconvert_exporter": "python",
   "pygments_lexer": "ipython3",
   "version": "3.7.3"
  }
 },
 "nbformat": 4,
 "nbformat_minor": 2
}
