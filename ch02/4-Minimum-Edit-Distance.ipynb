{
 "cells": [
  {
   "cell_type": "markdown",
   "metadata": {},
   "source": [
    "## Minimum Edit Distance\n",
    "Much of NLP is concerned with measuring how similar two strings are. \n",
    "\n",
    "### Edit distance\n",
    "**Minimum edit distance** between two strings is defined as the minimum number of editing operations (operations such as insertion, deletion, substituion) needed to transform one string to another.\n",
    "\n",
    "The gap between *intention* and *execution* is 5. We can see this easily by looking at the most important visualization for string distances, an **alignment** between the two strings. Given two sequences, an **alignment** is a correspondence between substrings of the two sequences. \n",
    "\n",
    "<img src='alignment.png' width=400>"
   ]
  },
  {
   "cell_type": "markdown",
   "metadata": {},
   "source": [
    "We can also assign a particular cost or weight to each of these operations. The **Levenshtein** distance between two sequences is the simplest weighting factor in which each of the three operations has a cost of 1. We assume the substitution of a letter for itself, has zero cost. The Levenshtein distance between *intention* and *execution* is 5."
   ]
  },
  {
   "cell_type": "markdown",
   "metadata": {},
   "source": [
    "### The minimum edit distance algorithm\n",
    "Let's define the minimum edit distance between two strings.\n",
    "\n",
    "Given two strings, the source string $X$ of length $n$, and target string $Y$ of length $m$. We'll define $D[i,j]$ as the edit distance between $X[1..i]$ and $Y[1..j]$, i.e. the first $i$ characters of $X$ and the first $j$ characters of $Y$. The edit distance between $X$ and $Y$ is thus $D[n,m]$.\n",
    "\n",
    "Using dynamic programming, the value of $D[i,j]$ is computed by taking the minimum of the three possible paths through the matrix which arrive there:\n",
    "\n",
    "$$\n",
    "D[i,j] = \\min\\begin{cases}\n",
    "D[i-1,j]+\\mathrm{del-cost}(\\mathit{source}[i])  \\\\\n",
    "D[i,j-1]+\\mathrm{ins-cost}(\\mathit{target}[j])  \\\\\n",
    "D[i-1, j-1]+\\mathrm{sub-cost}(\\mathit{source}[i], \\mathit{target}[j])\n",
    "\\end{cases}\n",
    "$$\n",
    "\n",
    "If we assume the version of Levenshtein distance in which the insertions and deletions each have a cost of 1, and substitutions have a cost of 2, the computation for $D[i,j]$ becomes\n",
    "\n",
    "$$\n",
    "D[i,j] = \\min\\begin{cases}\n",
    "D[i-1, j] + 1 \\\\\n",
    "D[i, j-1] + 1\\\\\n",
    "D[i-1, j-1] + \\begin{cases}2; & \\mathrm{if}\\,\\mathit{source}[i]\\ne\\mathit{target}[j] \\\\\n",
    "                           0; & \\mathrm{if}\\,\\mathit{source}[i]=\\mathit{target}[j]\n",
    "              \\end{cases}\n",
    "\\end{cases}\n",
    "$$"
   ]
  },
  {
   "cell_type": "code",
   "execution_count": 21,
   "metadata": {},
   "outputs": [],
   "source": [
    "import numpy as np\n",
    "def ins_cost(c):\n",
    "    \"\"\" Insertion cost\"\"\"\n",
    "    return 1\n",
    "\n",
    "def del_cost(c):\n",
    "    \"\"\" Deletion cost\"\"\"\n",
    "    return 1\n",
    "\n",
    "def sub_cost(c1, c2):\n",
    "    \"\"\" Substitution cost\"\"\"\n",
    "    if c1 != c2:\n",
    "        return 2\n",
    "    else:\n",
    "        return 0\n",
    "\n",
    "def min_edit_distance(source, target):\n",
    "    \"\"\" Calculate minimum edit distance.\n",
    "    param: two strings to be compared\n",
    "    returns: int, minimum edit distance.\"\"\"\n",
    "    n = len(source)\n",
    "    m = len(target)\n",
    "    \n",
    "    D = np.zeros([n+1, m+1])\n",
    "    \n",
    "    # Initialization: the zeroth row and column is the distance from the empty string\n",
    "    for i in range(1, n+1):\n",
    "        D[i, 0] = D[i-1, 0] + del_cost(source[i-1])\n",
    "    for j in range(1, m+1):\n",
    "        D[0, j] = D[0, j-1] + ins_cost(target[j-1])\n",
    "        \n",
    "    # Recurrence relation:\n",
    "    for i in range(1, n+1):\n",
    "        for j in range(1, m+1):\n",
    "            D[i, j] = min(D[i-1, j] + del_cost(source[i-1]),\n",
    "                         D[i-1, j-1] + sub_cost(source[i-1], target[j-1]),\n",
    "                         D[i, j-1] + ins_cost(target[j-1]))\n",
    "            \n",
    "    return D"
   ]
  },
  {
   "cell_type": "code",
   "execution_count": 22,
   "metadata": {},
   "outputs": [
    {
     "data": {
      "text/plain": [
       "array([[ 0.,  1.,  2.,  3.,  4.,  5.,  6.,  7.,  8.,  9.],\n",
       "       [ 1.,  2.,  3.,  4.,  5.,  6.,  7.,  6.,  7.,  8.],\n",
       "       [ 2.,  3.,  4.,  5.,  6.,  7.,  8.,  7.,  8.,  7.],\n",
       "       [ 3.,  4.,  5.,  6.,  7.,  8.,  7.,  8.,  9.,  8.],\n",
       "       [ 4.,  3.,  4.,  5.,  6.,  7.,  8.,  9., 10.,  9.],\n",
       "       [ 5.,  4.,  5.,  6.,  7.,  8.,  9., 10., 11., 10.],\n",
       "       [ 6.,  5.,  6.,  7.,  8.,  9.,  8.,  9., 10., 11.],\n",
       "       [ 7.,  6.,  7.,  8.,  9., 10.,  9.,  8.,  9., 10.],\n",
       "       [ 8.,  7.,  8.,  9., 10., 11., 10.,  9.,  8.,  9.],\n",
       "       [ 9.,  8.,  9., 10., 11., 12., 11., 10.,  9.,  8.]])"
      ]
     },
     "execution_count": 22,
     "metadata": {},
     "output_type": "execute_result"
    }
   ],
   "source": [
    "min_edit_distance('intention', 'execution')"
   ]
  }
 ],
 "metadata": {
  "kernelspec": {
   "display_name": "Python 3",
   "language": "python",
   "name": "python3"
  },
  "language_info": {
   "codemirror_mode": {
    "name": "ipython",
    "version": 3
   },
   "file_extension": ".py",
   "mimetype": "text/x-python",
   "name": "python",
   "nbconvert_exporter": "python",
   "pygments_lexer": "ipython3",
   "version": "3.7.3"
  }
 },
 "nbformat": 4,
 "nbformat_minor": 2
}
