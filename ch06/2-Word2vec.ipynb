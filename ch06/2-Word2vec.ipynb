{
 "cells": [
  {
   "cell_type": "markdown",
   "metadata": {},
   "source": [
    "# Word2Vec\n",
    "## Intuition\n",
    "1. Treat the target word and a neighbouring context word as positive examples\n",
    "2. Randomly sample other words in the lexicon to get negative samples\n",
    "3. Use logistic regression to train a classifier to distinguish those two cases\n",
    "4. Use the regression weights as the embeddings\n",
    "\n",
    "## Skip-gram with negative sampling (SGNS)\n",
    "Intuition of word2vec is instead of counting how often each word $w$ occurs near, say *apricot*, we'll instead train a classifier on a binary prediction task: \"Is word $w$ likely to show up near *apricot*? We don't actually care about this prediction task, instead we'll take the learned classifier *weights* as the word embeddings."
   ]
  },
  {
   "cell_type": "code",
   "execution_count": null,
   "metadata": {},
   "outputs": [],
   "source": []
  }
 ],
 "metadata": {
  "kernelspec": {
   "display_name": "Python 3",
   "language": "python",
   "name": "python3"
  },
  "language_info": {
   "codemirror_mode": {
    "name": "ipython",
    "version": 3
   },
   "file_extension": ".py",
   "mimetype": "text/x-python",
   "name": "python",
   "nbconvert_exporter": "python",
   "pygments_lexer": "ipython3",
   "version": "3.7.3"
  }
 },
 "nbformat": 4,
 "nbformat_minor": 2
}
