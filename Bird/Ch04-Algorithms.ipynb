{
 "cells": [
  {
   "cell_type": "markdown",
   "metadata": {},
   "source": [
    "<a id='ch04'></a>\n",
    "# Chapter 4: Writing Structured Programs\n",
    "\n",
    "* [Section 4.7 Algorithm Design](#section7)\n",
    "<a id='section7'></a>\n",
    "## 4.7 Dynamic Programming"
   ]
  },
  {
   "cell_type": "code",
   "execution_count": 1,
   "metadata": {},
   "outputs": [],
   "source": [
    "import nltk\n",
    "from nltk import memoize"
   ]
  },
  {
   "cell_type": "code",
   "execution_count": 2,
   "metadata": {},
   "outputs": [],
   "source": [
    "def virahanka1(n):\n",
    "    if n == 0:\n",
    "        return [\"\"]\n",
    "    elif n == 1:\n",
    "        return [\"S\"]\n",
    "    else:\n",
    "        s = [\"S\" + prosody for prosody in virahanka1(n-1)]\n",
    "        l = [\"L\" + prosody for prosody in virahanka1(n-2)]\n",
    "        return s+l"
   ]
  },
  {
   "cell_type": "code",
   "execution_count": 3,
   "metadata": {},
   "outputs": [],
   "source": [
    "def virahanka2(n):\n",
    "    lookup = [[\"\"], [\"S\"]]\n",
    "    for i in range(n-1):\n",
    "        s = [\"S\" + prosody for prosody in lookup[i+1]]\n",
    "        l = [\"L\" + prosody for prosody in lookup[i]]\n",
    "        lookup.append(s + l)\n",
    "    return lookup"
   ]
  },
  {
   "cell_type": "code",
   "execution_count": 4,
   "metadata": {},
   "outputs": [],
   "source": [
    "def virahanka3(n, lookup={0:[\"\"], 1:[\"S\"]}):\n",
    "    if n not in lookup:\n",
    "        s = [\"S\" + prosody for prosody in virahanka3(n-1)]\n",
    "        l = [\"L\" + prosody for prosody in virahanka3(n-2)]\n",
    "        lookup[n] = s + l\n",
    "    return lookup[n]"
   ]
  },
  {
   "cell_type": "code",
   "execution_count": 5,
   "metadata": {},
   "outputs": [],
   "source": [
    "@memoize\n",
    "def virahanka4(n):\n",
    "    if n == 0:\n",
    "        return [\"\"]\n",
    "    elif n == 1:\n",
    "        return [\"S\"]\n",
    "    else:\n",
    "        s = ['S' + prosody for prosody in virahanka4(n-1)]\n",
    "        l = [\"L\" + prosody for prosody in virahanka4(n-2)]\n",
    "    return s + l"
   ]
  },
  {
   "cell_type": "code",
   "execution_count": 6,
   "metadata": {},
   "outputs": [],
   "source": [
    "def findtags(tag_prefix, tagged_text):\n",
    "    cfd = nltk.ConditionalFreqDist((tag, word) for (word, tag) in tagged_text\n",
    "                                  if tag.startswith(tag_prefix))\n",
    "    return dict((tag, list(cfd[tag].keys())[:5]) for tag in cfd.conditions())"
   ]
  },
  {
   "cell_type": "code",
   "execution_count": 7,
   "metadata": {},
   "outputs": [],
   "source": [
    "tagdict = findtags('NN', nltk.corpus.brown.tagged_words(categories='news'))"
   ]
  },
  {
   "cell_type": "code",
   "execution_count": 8,
   "metadata": {},
   "outputs": [
    {
     "data": {
      "text/plain": [
       "{'NN-TL': ['County', 'Jury', 'City', 'Committee', 'Court'],\n",
       " 'NN': ['investigation', 'primary', 'election', 'evidence', 'place'],\n",
       " 'NNS': ['irregularities', 'presentments', 'thanks', 'reports', 'voters'],\n",
       " 'NN-HL': ['Merger', 'jail', 'Construction', 'fund', 'sp.'],\n",
       " 'NN$-TL': [\"Department's\",\n",
       "  \"Commissioner's\",\n",
       "  \"President's\",\n",
       "  \"Party's\",\n",
       "  \"Mayor's\"],\n",
       " 'NN$': [\"ordinary's\", \"court's\", \"mayor's\", \"wife's\", \"governor's\"],\n",
       " 'NNS-HL': ['Wards', 'deputies', 'bonds', 'aspects', 'Decisions'],\n",
       " 'NNS-TL': ['Police', 'Roads', 'Legislatures', 'Bankers', 'Reps.'],\n",
       " 'NNS$': [\"taxpayers'\", \"children's\", \"members'\", \"women's\", \"years'\"],\n",
       " 'NNS$-TL': [\"States'\", \"Women's\", \"Princes'\", \"Bombers'\", \"Falcons'\"],\n",
       " 'NN-TL-HL': ['Mayor', 'Commissioner', 'City', 'Oak', 'Grove'],\n",
       " 'NNS-TL-HL': ['Nations'],\n",
       " 'NN$-HL': [\"Golf's\", \"Navy's\"],\n",
       " 'NNS$-HL': [\"Dealers'\", \"Idols'\"],\n",
       " 'NN-NC': ['ova', 'eva', 'aya']}"
      ]
     },
     "execution_count": 8,
     "metadata": {},
     "output_type": "execute_result"
    }
   ],
   "source": [
    "tagdict"
   ]
  }
 ],
 "metadata": {
  "kernelspec": {
   "display_name": "Python 3",
   "language": "python",
   "name": "python3"
  },
  "language_info": {
   "codemirror_mode": {
    "name": "ipython",
    "version": 3
   },
   "file_extension": ".py",
   "mimetype": "text/x-python",
   "name": "python",
   "nbconvert_exporter": "python",
   "pygments_lexer": "ipython3",
   "version": "3.7.3"
  }
 },
 "nbformat": 4,
 "nbformat_minor": 2
}
