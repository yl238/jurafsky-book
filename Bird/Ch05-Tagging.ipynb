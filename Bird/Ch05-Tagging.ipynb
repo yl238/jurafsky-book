{
 "cells": [
  {
   "cell_type": "markdown",
   "metadata": {},
   "source": [
    "## Part of Speech (POS) Tagging\n",
    "POS tagging is the process of marking up a word in a corpus to a corresponding part of a speech tag, based on its context and definition. This task is not straightfoward, as a particular word may have a different part of speech based on the context in which the word is used.\n",
    "\n",
    "### The Different POS Tagging Techniques\n",
    "1. **Lexical Based Methods** - Assign the POS tag the most frequently occurring with a word in the training corpus.\n",
    "2. **Rule-Based Methods** - Assign POS tags based on rules. For example, we can have a rule that says, words ending with \"ed\" or \"ing\" must be assigned to a verb. Rule-Based Techniques can be used along with Lexical Based approaches to allow POS Tagging of words that are not present in the training corpus but are there in the testing data.\n",
    "3. **Probabilistic Methods** - This method assigns the POS tags based on the probability of a particular tag sequence occurring. Conditional Random Fields (CRFs) and Hidden Markov Models (HMMs) are probabilistic approaches to assign a POS Tag.\n",
    "4. **Deep Learning Methods** - Recurrent Neural Networks can also be used for POS tagging."
   ]
  },
  {
   "cell_type": "code",
   "execution_count": null,
   "metadata": {},
   "outputs": [],
   "source": []
  }
 ],
 "metadata": {
  "kernelspec": {
   "display_name": "Python 3",
   "language": "python",
   "name": "python3"
  },
  "language_info": {
   "codemirror_mode": {
    "name": "ipython",
    "version": 3
   },
   "file_extension": ".py",
   "mimetype": "text/x-python",
   "name": "python",
   "nbconvert_exporter": "python",
   "pygments_lexer": "ipython3",
   "version": "3.7.4"
  }
 },
 "nbformat": 4,
 "nbformat_minor": 2
}
